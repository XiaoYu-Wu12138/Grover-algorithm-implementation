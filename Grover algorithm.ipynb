{
 "cells": [
  {
   "cell_type": "markdown",
   "id": "c6fe284b",
   "metadata": {},
   "source": [
    "## Two qubits' example (one marked state) "
   ]
  },
  {
   "cell_type": "code",
   "execution_count": 1,
   "id": "ce24f95c",
   "metadata": {},
   "outputs": [],
   "source": [
    "#initialization\n",
    "\n",
    "import matplotlib.pyplot as plt\n",
    "import numpy as np\n",
    "\n",
    "# importing Qiskit\n",
    "from qiskit import IBMQ, Aer, assemble, transpile\n",
    "from qiskit import QuantumCircuit, ClassicalRegister, QuantumRegister\n",
    "from qiskit.providers.ibmq import least_busy\n",
    "\n",
    "# import basic plot tools\n",
    "from qiskit.visualization import plot_histogram"
   ]
  },
  {
   "cell_type": "code",
   "execution_count": 2,
   "id": "49b3fbd6",
   "metadata": {},
   "outputs": [],
   "source": [
    "# prepare a quantum circuit with 2 qubits \n",
    "\n",
    "n = 2\n",
    "grover_circuit = QuantumCircuit(n)"
   ]
  },
  {
   "cell_type": "code",
   "execution_count": 3,
   "id": "6721089c",
   "metadata": {},
   "outputs": [],
   "source": [
    "# step 1 (a superpostions for all qubits)\n",
    "\n",
    "def initialize_s(qc, qubits):\n",
    "    \"\"\"Apply a H-gate to 'qubits' in the circuit\"\"\"\n",
    "    for q in qubits:\n",
    "        qc.h(q)\n",
    "    return qc"
   ]
  },
  {
   "cell_type": "code",
   "execution_count": 4,
   "id": "eca80414",
   "metadata": {},
   "outputs": [
    {
     "data": {
      "text/html": [
       "<pre style=\"word-wrap: normal;white-space: pre;background: #fff0;line-height: 1.1;font-family: &quot;Courier New&quot;,Courier,monospace\">     ┌───┐\n",
       "q_0: ┤ H ├\n",
       "     ├───┤\n",
       "q_1: ┤ H ├\n",
       "     └───┘</pre>"
      ],
      "text/plain": [
       "     ┌───┐\n",
       "q_0: ┤ H ├\n",
       "     ├───┤\n",
       "q_1: ┤ H ├\n",
       "     └───┘"
      ]
     },
     "execution_count": 4,
     "metadata": {},
     "output_type": "execute_result"
    }
   ],
   "source": [
    "grover_circuit = initialize_s(grover_circuit, [0,1])\n",
    "grover_circuit.draw()"
   ]
  },
  {
   "cell_type": "code",
   "execution_count": 5,
   "id": "11d3e031",
   "metadata": {},
   "outputs": [
    {
     "data": {
      "text/html": [
       "<pre style=\"word-wrap: normal;white-space: pre;background: #fff0;line-height: 1.1;font-family: &quot;Courier New&quot;,Courier,monospace\">     ┌───┐   \n",
       "q_0: ┤ H ├─■─\n",
       "     ├───┤ │ \n",
       "q_1: ┤ H ├─■─\n",
       "     └───┘   </pre>"
      ],
      "text/plain": [
       "     ┌───┐   \n",
       "q_0: ┤ H ├─■─\n",
       "     ├───┤ │ \n",
       "q_1: ┤ H ├─■─\n",
       "     └───┘   "
      ]
     },
     "execution_count": 5,
     "metadata": {},
     "output_type": "execute_result"
    }
   ],
   "source": [
    "# apply oracle function\n",
    "\n",
    "grover_circuit.cz(0,1) # Oracle\n",
    "grover_circuit.draw()"
   ]
  },
  {
   "cell_type": "code",
   "execution_count": 6,
   "id": "2f7d2193",
   "metadata": {},
   "outputs": [
    {
     "data": {
      "text/html": [
       "<pre style=\"word-wrap: normal;white-space: pre;background: #fff0;line-height: 1.1;font-family: &quot;Courier New&quot;,Courier,monospace\">     ┌───┐   ┌───┐┌───┐   ┌───┐\n",
       "q_0: ┤ H ├─■─┤ H ├┤ Z ├─■─┤ H ├\n",
       "     ├───┤ │ ├───┤├───┤ │ ├───┤\n",
       "q_1: ┤ H ├─■─┤ H ├┤ Z ├─■─┤ H ├\n",
       "     └───┘   └───┘└───┘   └───┘</pre>"
      ],
      "text/plain": [
       "     ┌───┐   ┌───┐┌───┐   ┌───┐\n",
       "q_0: ┤ H ├─■─┤ H ├┤ Z ├─■─┤ H ├\n",
       "     ├───┤ │ ├───┤├───┤ │ ├───┤\n",
       "q_1: ┤ H ├─■─┤ H ├┤ Z ├─■─┤ H ├\n",
       "     └───┘   └───┘└───┘   └───┘"
      ]
     },
     "execution_count": 6,
     "metadata": {},
     "output_type": "execute_result"
    }
   ],
   "source": [
    "# amplification step (after one iteration)\n",
    "grover_circuit.h([0,1])\n",
    "grover_circuit.z([0,1])\n",
    "grover_circuit.cz(0,1) # H-CNOT-H\n",
    "grover_circuit.h([0,1])\n",
    "grover_circuit.draw()"
   ]
  },
  {
   "cell_type": "code",
   "execution_count": 7,
   "id": "8317a6b2",
   "metadata": {},
   "outputs": [
    {
     "data": {
      "image/png": "[encoded data removed]",
      "text/plain": [
       "<Figure size 504x360 with 1 Axes>"
      ]
     },
     "execution_count": 7,
     "metadata": {},
     "output_type": "execute_result"
    }
   ],
   "source": [
    "# run on simulations \n",
    "\n",
    "grover_circuit.measure_all()\n",
    "\n",
    "aer_sim = Aer.get_backend('aer_simulator')\n",
    "qobj = assemble(grover_circuit)\n",
    "result = aer_sim.run(qobj).result()\n",
    "counts = result.get_counts()\n",
    "plot_histogram(counts)"
   ]
  },
  {
   "cell_type": "markdown",
   "id": "0c462031",
   "metadata": {},
   "source": [
    "We can't run the circuit a real device because we don't have access to a IBM account "
   ]
  },
  {
   "cell_type": "markdown",
   "id": "2ab8625a",
   "metadata": {},
   "source": [
    "## Four qubits' example (one marked state) "
   ]
  },
  {
   "cell_type": "code",
   "execution_count": 8,
   "id": "e460fd44",
   "metadata": {},
   "outputs": [],
   "source": [
    "def new_initialize_s(qc, qubits):\n",
    "    \"\"\"Apply a X-gate and H-gate to 'qubits' in the circuit\"\"\"\n",
    "    for q in qubits:\n",
    "        qc.x(q)\n",
    "        qc.h(q)\n",
    "    return qc"
   ]
  },
  {
   "cell_type": "code",
   "execution_count": 9,
   "id": "4b72218b",
   "metadata": {},
   "outputs": [],
   "source": [
    "# build oracle function |1101>\n",
    "\n",
    "qc = QuantumCircuit(4)\n",
    "qc.x(1)\n",
    "qc.h(3)\n",
    "qc.mct(list(range(3)), 3)  # multi-controlled-toffoli\n",
    "qc.h(3)\n",
    "qc.x(1)\n",
    "oracle_ex3 = qc.to_gate()\n",
    "oracle_ex3.name = \"U$_\\omega$\"\n"
   ]
  },
  {
   "cell_type": "code",
   "execution_count": 10,
   "id": "239f25c1",
   "metadata": {},
   "outputs": [],
   "source": [
    "# build diffuser \n",
    "\n",
    "def diffuser(nqubits):\n",
    "    qc = QuantumCircuit(nqubits)\n",
    "    # Apply transformation |s> -> |00..0> (H-gates)\n",
    "    for qubit in range(nqubits):\n",
    "        qc.h(qubit)\n",
    "    # Do multi-controlled-Z gate\n",
    "    qc.h(nqubits-1)\n",
    "    qc.mct(list(range(nqubits-1)), nqubits-1)  # multi-controlled-toffoli\n",
    "    qc.h(nqubits-1)\n",
    "    # Apply transformation |00..0> -> |s>\n",
    "    for qubit in range(nqubits):\n",
    "        qc.h(qubit)\n",
    "    # We will return the diffuser as a gate\n",
    "    U_s = qc.to_gate()\n",
    "    U_s.name = \"U$_s$\"\n",
    "    return U_s"
   ]
  },
  {
   "cell_type": "code",
   "execution_count": 11,
   "id": "c4bb4f3a",
   "metadata": {},
   "outputs": [
    {
     "data": {
      "text/html": [
       "<pre style=\"word-wrap: normal;white-space: pre;background: #fff0;line-height: 1.1;font-family: &quot;Courier New&quot;,Courier,monospace\">        ┌───┐┌───┐┌─────────────┐┌────────┐ ░ ┌─┐         \n",
       "   q_0: ┤ X ├┤ H ├┤0            ├┤0       ├─░─┤M├─────────\n",
       "        ├───┤├───┤│             ││        │ ░ └╥┘┌─┐      \n",
       "   q_1: ┤ X ├┤ H ├┤1            ├┤1       ├─░──╫─┤M├──────\n",
       "        ├───┤├───┤│  U$_\\omega$ ││  U$_s$ │ ░  ║ └╥┘┌─┐   \n",
       "   q_2: ┤ X ├┤ H ├┤2            ├┤2       ├─░──╫──╫─┤M├───\n",
       "        ├───┤├───┤│             ││        │ ░  ║  ║ └╥┘┌─┐\n",
       "   q_3: ┤ X ├┤ H ├┤3            ├┤3       ├─░──╫──╫──╫─┤M├\n",
       "        └───┘└───┘└─────────────┘└────────┘ ░  ║  ║  ║ └╥┘\n",
       "meas: 4/═══════════════════════════════════════╩══╩══╩══╩═\n",
       "                                               0  1  2  3 </pre>"
      ],
      "text/plain": [
       "        ┌───┐┌───┐┌─────────────┐┌────────┐ ░ ┌─┐         \n",
       "   q_0: ┤ X ├┤ H ├┤0            ├┤0       ├─░─┤M├─────────\n",
       "        ├───┤├───┤│             ││        │ ░ └╥┘┌─┐      \n",
       "   q_1: ┤ X ├┤ H ├┤1            ├┤1       ├─░──╫─┤M├──────\n",
       "        ├───┤├───┤│  U$_\\omega$ ││  U$_s$ │ ░  ║ └╥┘┌─┐   \n",
       "   q_2: ┤ X ├┤ H ├┤2            ├┤2       ├─░──╫──╫─┤M├───\n",
       "        ├───┤├───┤│             ││        │ ░  ║  ║ └╥┘┌─┐\n",
       "   q_3: ┤ X ├┤ H ├┤3            ├┤3       ├─░──╫──╫──╫─┤M├\n",
       "        └───┘└───┘└─────────────┘└────────┘ ░  ║  ║  ║ └╥┘\n",
       "meas: 4/═══════════════════════════════════════╩══╩══╩══╩═\n",
       "                                               0  1  2  3 "
      ]
     },
     "execution_count": 11,
     "metadata": {},
     "output_type": "execute_result"
    }
   ],
   "source": [
    "n=4\n",
    "grover_circuit = QuantumCircuit(n)\n",
    "grover_circuit = new_initialize_s(grover_circuit, [0,1,2,3])\n",
    "\n",
    "# first iteration \n",
    "grover_circuit.append(oracle_ex3, [0,1,2,3])\n",
    "grover_circuit.append(diffuser(n), [0,1,2,3])\n",
    "grover_circuit.measure_all()\n",
    "grover_circuit.draw()"
   ]
  },
  {
   "cell_type": "code",
   "execution_count": 12,
   "id": "80802307",
   "metadata": {},
   "outputs": [
    {
     "data": {
      "image/png": "[encoded data removed]",
      "text/plain": [
       "<Figure size 504x360 with 1 Axes>"
      ]
     },
     "execution_count": 12,
     "metadata": {},
     "output_type": "execute_result"
    }
   ],
   "source": [
    "# experiment with simulator (with one iteration)\n",
    "\n",
    "aer_sim = Aer.get_backend('aer_simulator')\n",
    "transpiled_grover_circuit = transpile(grover_circuit, aer_sim)\n",
    "qobj = assemble(transpiled_grover_circuit)\n",
    "results = aer_sim.run(qobj).result()\n",
    "counts = results.get_counts()\n",
    "plot_histogram(counts)"
   ]
  },
  {
   "cell_type": "code",
   "execution_count": 13,
   "id": "6ea40e02",
   "metadata": {},
   "outputs": [
    {
     "name": "stdout",
     "output_type": "stream",
     "text": [
      "iteration completed\n"
     ]
    },
    {
     "data": {
      "text/html": [
       "<pre style=\"word-wrap: normal;white-space: pre;background: #fff0;line-height: 1.1;font-family: &quot;Courier New&quot;,Courier,monospace\">        ┌───┐┌───┐┌─────────────┐┌────────┐┌─────────────┐┌────────┐»\n",
       "   q_0: ┤ X ├┤ H ├┤0            ├┤0       ├┤0            ├┤0       ├»\n",
       "        ├───┤├───┤│             ││        ││             ││        │»\n",
       "   q_1: ┤ X ├┤ H ├┤1            ├┤1       ├┤1            ├┤1       ├»\n",
       "        ├───┤├───┤│  U$_\\omega$ ││  U$_s$ ││  U$_\\omega$ ││  U$_s$ │»\n",
       "   q_2: ┤ X ├┤ H ├┤2            ├┤2       ├┤2            ├┤2       ├»\n",
       "        ├───┤├───┤│             ││        ││             ││        │»\n",
       "   q_3: ┤ X ├┤ H ├┤3            ├┤3       ├┤3            ├┤3       ├»\n",
       "        └───┘└───┘└─────────────┘└────────┘└─────────────┘└────────┘»\n",
       "meas: 4/════════════════════════════════════════════════════════════»\n",
       "                                                                    »\n",
       "«        ┌─────────────┐┌────────┐ ░ ┌─┐         \n",
       "«   q_0: ┤0            ├┤0       ├─░─┤M├─────────\n",
       "«        │             ││        │ ░ └╥┘┌─┐      \n",
       "«   q_1: ┤1            ├┤1       ├─░──╫─┤M├──────\n",
       "«        │  U$_\\omega$ ││  U$_s$ │ ░  ║ └╥┘┌─┐   \n",
       "«   q_2: ┤2            ├┤2       ├─░──╫──╫─┤M├───\n",
       "«        │             ││        │ ░  ║  ║ └╥┘┌─┐\n",
       "«   q_3: ┤3            ├┤3       ├─░──╫──╫──╫─┤M├\n",
       "«        └─────────────┘└────────┘ ░  ║  ║  ║ └╥┘\n",
       "«meas: 4/═════════════════════════════╩══╩══╩══╩═\n",
       "«                                     0  1  2  3 </pre>"
      ],
      "text/plain": [
       "        ┌───┐┌───┐┌─────────────┐┌────────┐┌─────────────┐┌────────┐»\n",
       "   q_0: ┤ X ├┤ H ├┤0            ├┤0       ├┤0            ├┤0       ├»\n",
       "        ├───┤├───┤│             ││        ││             ││        │»\n",
       "   q_1: ┤ X ├┤ H ├┤1            ├┤1       ├┤1            ├┤1       ├»\n",
       "        ├───┤├───┤│  U$_\\omega$ ││  U$_s$ ││  U$_\\omega$ ││  U$_s$ │»\n",
       "   q_2: ┤ X ├┤ H ├┤2            ├┤2       ├┤2            ├┤2       ├»\n",
       "        ├───┤├───┤│             ││        ││             ││        │»\n",
       "   q_3: ┤ X ├┤ H ├┤3            ├┤3       ├┤3            ├┤3       ├»\n",
       "        └───┘└───┘└─────────────┘└────────┘└─────────────┘└────────┘»\n",
       "meas: 4/════════════════════════════════════════════════════════════»\n",
       "                                                                    »\n",
       "«        ┌─────────────┐┌────────┐ ░ ┌─┐         \n",
       "«   q_0: ┤0            ├┤0       ├─░─┤M├─────────\n",
       "«        │             ││        │ ░ └╥┘┌─┐      \n",
       "«   q_1: ┤1            ├┤1       ├─░──╫─┤M├──────\n",
       "«        │  U$_\\omega$ ││  U$_s$ │ ░  ║ └╥┘┌─┐   \n",
       "«   q_2: ┤2            ├┤2       ├─░──╫──╫─┤M├───\n",
       "«        │             ││        │ ░  ║  ║ └╥┘┌─┐\n",
       "«   q_3: ┤3            ├┤3       ├─░──╫──╫──╫─┤M├\n",
       "«        └─────────────┘└────────┘ ░  ║  ║  ║ └╥┘\n",
       "«meas: 4/═════════════════════════════╩══╩══╩══╩═\n",
       "«                                     0  1  2  3 "
      ]
     },
     "execution_count": 13,
     "metadata": {},
     "output_type": "execute_result"
    }
   ],
   "source": [
    "# optimal numbers of iterations (3 times?)\n",
    "\n",
    "n=4\n",
    "grover_circuit = QuantumCircuit(n)\n",
    "grover_circuit = new_initialize_s(grover_circuit, [0,1,2,3])\n",
    "\n",
    "counter = 0\n",
    "\n",
    "while counter < 3:\n",
    "    grover_circuit.append(oracle_ex3, [0,1,2,3])\n",
    "    grover_circuit.append(diffuser(n), [0,1,2,3])\n",
    "    counter += 1\n",
    "\n",
    "if counter == 3:\n",
    "    print (\"iteration completed\")\n",
    "\n",
    "grover_circuit.measure_all()\n",
    "grover_circuit.draw()"
   ]
  },
  {
   "cell_type": "code",
   "execution_count": 14,
   "id": "fa1dafe7",
   "metadata": {},
   "outputs": [
    {
     "data": {
      "image/png": "[encoded data removed]",
      "text/plain": [
       "<Figure size 504x360 with 1 Axes>"
      ]
     },
     "execution_count": 14,
     "metadata": {},
     "output_type": "execute_result"
    }
   ],
   "source": [
    "aer_sim = Aer.get_backend('aer_simulator')\n",
    "transpiled_grover_circuit = transpile(grover_circuit, aer_sim)\n",
    "qobj = assemble(transpiled_grover_circuit)\n",
    "results = aer_sim.run(qobj).result()\n",
    "counts = results.get_counts()\n",
    "plot_histogram(counts)"
   ]
  },
  {
   "cell_type": "markdown",
   "id": "2933c3c5",
   "metadata": {},
   "source": [
    "## Four qubits' example (two marked state) "
   ]
  },
  {
   "cell_type": "code",
   "execution_count": 27,
   "id": "1d4d8652",
   "metadata": {},
   "outputs": [
    {
     "name": "stdout",
     "output_type": "stream",
     "text": [
      "iteration completed\n"
     ]
    },
    {
     "data": {
      "text/html": [
       "<pre style=\"word-wrap: normal;white-space: pre;background: #fff0;line-height: 1.1;font-family: &quot;Courier New&quot;,Courier,monospace\">        ┌───┐┌───┐┌─────────────┐┌────────┐┌─────────────┐┌────────┐ ░ ┌─┐   »\n",
       "   q_0: ┤ X ├┤ H ├┤0            ├┤0       ├┤0            ├┤0       ├─░─┤M├───»\n",
       "        ├───┤├───┤│             ││        ││             ││        │ ░ └╥┘┌─┐»\n",
       "   q_1: ┤ X ├┤ H ├┤1            ├┤1       ├┤1            ├┤1       ├─░──╫─┤M├»\n",
       "        ├───┤├───┤│  U$_\\omega$ ││  U$_s$ ││  U$_\\omega$ ││  U$_s$ │ ░  ║ └╥┘»\n",
       "   q_2: ┤ X ├┤ H ├┤2            ├┤2       ├┤2            ├┤2       ├─░──╫──╫─»\n",
       "        ├───┤├───┤│             ││        ││             ││        │ ░  ║  ║ »\n",
       "   q_3: ┤ X ├┤ H ├┤3            ├┤3       ├┤3            ├┤3       ├─░──╫──╫─»\n",
       "        └───┘└───┘└─────────────┘└────────┘└─────────────┘└────────┘ ░  ║  ║ »\n",
       "meas: 4/════════════════════════════════════════════════════════════════╩══╩═»\n",
       "                                                                        0  1 »\n",
       "«              \n",
       "«   q_0: ──────\n",
       "«              \n",
       "«   q_1: ──────\n",
       "«        ┌─┐   \n",
       "«   q_2: ┤M├───\n",
       "«        └╥┘┌─┐\n",
       "«   q_3: ─╫─┤M├\n",
       "«         ║ └╥┘\n",
       "«meas: 4/═╩══╩═\n",
       "«         2  3 </pre>"
      ],
      "text/plain": [
       "        ┌───┐┌───┐┌─────────────┐┌────────┐┌─────────────┐┌────────┐ ░ ┌─┐   »\n",
       "   q_0: ┤ X ├┤ H ├┤0            ├┤0       ├┤0            ├┤0       ├─░─┤M├───»\n",
       "        ├───┤├───┤│             ││        ││             ││        │ ░ └╥┘┌─┐»\n",
       "   q_1: ┤ X ├┤ H ├┤1            ├┤1       ├┤1            ├┤1       ├─░──╫─┤M├»\n",
       "        ├───┤├───┤│  U$_\\omega$ ││  U$_s$ ││  U$_\\omega$ ││  U$_s$ │ ░  ║ └╥┘»\n",
       "   q_2: ┤ X ├┤ H ├┤2            ├┤2       ├┤2            ├┤2       ├─░──╫──╫─»\n",
       "        ├───┤├───┤│             ││        ││             ││        │ ░  ║  ║ »\n",
       "   q_3: ┤ X ├┤ H ├┤3            ├┤3       ├┤3            ├┤3       ├─░──╫──╫─»\n",
       "        └───┘└───┘└─────────────┘└────────┘└─────────────┘└────────┘ ░  ║  ║ »\n",
       "meas: 4/════════════════════════════════════════════════════════════════╩══╩═»\n",
       "                                                                        0  1 »\n",
       "«              \n",
       "«   q_0: ──────\n",
       "«              \n",
       "«   q_1: ──────\n",
       "«        ┌─┐   \n",
       "«   q_2: ┤M├───\n",
       "«        └╥┘┌─┐\n",
       "«   q_3: ─╫─┤M├\n",
       "«         ║ └╥┘\n",
       "«meas: 4/═╩══╩═\n",
       "«         2  3 "
      ]
     },
     "execution_count": 27,
     "metadata": {},
     "output_type": "execute_result"
    }
   ],
   "source": [
    "n=4\n",
    "grover_circuit = QuantumCircuit(n)\n",
    "grover_circuit = new_initialize_s(grover_circuit, [0,1,2,3])\n",
    "\n",
    "counter = 0\n",
    "iteration = 2\n",
    "\n",
    "# build oracle functions |1100> and |1110>\n",
    "\n",
    "# for |1100>\n",
    "qc = QuantumCircuit(4)\n",
    "qc.x(0)\n",
    "qc.x(1)\n",
    "# CZ gates for 4 qubits \n",
    "qc.h(3)\n",
    "qc.mct(list(range(3)), 3)  # multi-controlled-toffoli\n",
    "qc.h(3)\n",
    "qc.x(0)\n",
    "qc.x(1)\n",
    "\n",
    "# for |1110>\n",
    "qc.x(0)\n",
    "qc.h(3)\n",
    "qc.mct(list(range(3)), 3)  # multi-controlled-toffoli\n",
    "qc.h(3)\n",
    "qc.x(0)\n",
    "\n",
    "oracle_ex4 = qc.to_gate()\n",
    "oracle_ex4.name = \"U$_\\omega$\"\n",
    "\n",
    "\n",
    "while counter < iteration:\n",
    "    grover_circuit.append(oracle_ex4, [0,1,2,3])\n",
    "    grover_circuit.append(diffuser(n), [0,1,2,3])\n",
    "    counter += 1\n",
    "\n",
    "if counter == iteration:\n",
    "    print (\"iteration completed\")\n",
    "\n",
    "grover_circuit.measure_all()\n",
    "grover_circuit.draw()"
   ]
  },
  {
   "cell_type": "code",
   "execution_count": 28,
   "id": "8e32367a",
   "metadata": {},
   "outputs": [
    {
     "data": {
      "image/png": "[encoded data removed]",
      "text/plain": [
       "<Figure size 504x360 with 1 Axes>"
      ]
     },
     "execution_count": 28,
     "metadata": {},
     "output_type": "execute_result"
    }
   ],
   "source": [
    "aer_sim = Aer.get_backend('aer_simulator')\n",
    "transpiled_grover_circuit = transpile(grover_circuit, aer_sim)\n",
    "qobj = assemble(transpiled_grover_circuit)\n",
    "results = aer_sim.run(qobj).result()\n",
    "counts = results.get_counts()\n",
    "plot_histogram(counts)"
   ]
  },
  {
   "cell_type": "code",
   "execution_count": null,
   "id": "a08941ad",
   "metadata": {},
   "outputs": [],
   "source": []
  }
 ],
 "metadata": {
  "kernelspec": {
   "display_name": "Python 3 (ipykernel)",
   "language": "python",
   "name": "python3"
  },
  "language_info": {
   "codemirror_mode": {
    "name": "ipython",
    "version": 3
   },
   "file_extension": ".py",
   "mimetype": "text/x-python",
   "name": "python",
   "nbconvert_exporter": "python",
   "pygments_lexer": "ipython3",
   "version": "3.9.7"
  }
 },
 "nbformat": 4,
 "nbformat_minor": 5
}
