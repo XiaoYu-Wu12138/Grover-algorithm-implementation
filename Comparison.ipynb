{
 "cells": [
  {
   "cell_type": "markdown",
   "metadata": {},
   "source": [
    "**Comparison of Problem Solving with Classical and Quantum Approaches**\n",
    "\n",
    "the potential of quantum algorithm and protocols as compared to non-quantum strategies"
   ]
  },
  {
   "cell_type": "markdown",
   "metadata": {},
   "source": [
    "---\n",
    "**finding specific element in a list** (classical)"
   ]
  },
  {
   "cell_type": "markdown",
   "metadata": {},
   "source": [
    "Defining the oracle in the classical case:"
   ]
  },
  {
   "cell_type": "code",
   "execution_count": 1,
   "metadata": {},
   "outputs": [],
   "source": [
    "def oracle(input, target):\n",
    "    if input is target:\n",
    "        return True\n",
    "    else:\n",
    "        return False"
   ]
  },
  {
   "cell_type": "markdown",
   "metadata": {},
   "source": [
    "---\n",
    "When N=4, and the last element (|11>) is the our target:"
   ]
  },
  {
   "cell_type": "code",
   "execution_count": 2,
   "metadata": {},
   "outputs": [],
   "source": [
    "lst_4 = [1, 2, 3, 4]\n",
    "TARGET_4 = 4"
   ]
  },
  {
   "cell_type": "markdown",
   "metadata": {},
   "source": [
    "It requires N calls to the oracle to find it."
   ]
  },
  {
   "cell_type": "code",
   "execution_count": 3,
   "metadata": {},
   "outputs": [
    {
     "name": "stdout",
     "output_type": "stream",
     "text": [
      "Target found at index 3.\n",
      "Oracle is callsed 4 times.\n"
     ]
    }
   ],
   "source": [
    "for index, element in enumerate(lst_4):\n",
    "    if oracle(element, TARGET_4) is True:\n",
    "        print(\"Target found at index %i.\"%index)\n",
    "        print(\"Oracle is called %i times.\"%(index+1))\n",
    "        break"
   ]
  },
  {
   "cell_type": "markdown",
   "metadata": {},
   "source": [
    "---\n",
    "Similarly, when N=16, and the 13th element (|1101>) is the target."
   ]
  },
  {
   "cell_type": "code",
   "execution_count": 4,
   "metadata": {},
   "outputs": [
    {
     "name": "stdout",
     "output_type": "stream",
     "text": [
      "Target found at index 12.\n",
      "Oracle is called 13 times.\n"
     ]
    }
   ],
   "source": [
    "lst_16 = [1,2,3,4,5,6,7,8,9,10,11,12,13,14,15,16]\n",
    "TARGET_16 = 13\n",
    "\n",
    "for index, element in enumerate(lst_16):\n",
    "    if oracle(element, TARGET_16) is True:\n",
    "        print(\"Target found at index %i.\"%index)\n",
    "        print(\"Oracle is called %i times.\"%(index+1))\n",
    "        break"
   ]
  },
  {
   "cell_type": "code",
   "execution_count": null,
   "metadata": {},
   "outputs": [],
   "source": []
  }
 ],
 "metadata": {
  "interpreter": {
   "hash": "059d7fca8351dcce5a7716f2c5f12c1d285aa69e0a40f337148a192dd80257bc"
  },
  "kernelspec": {
   "display_name": "Python 3.8.7 64-bit",
   "language": "python",
   "name": "python3"
  },
  "language_info": {
   "codemirror_mode": {
    "name": "ipython",
    "version": 3
   },
   "file_extension": ".py",
   "mimetype": "text/x-python",
   "name": "python",
   "nbconvert_exporter": "python",
   "pygments_lexer": "ipython3",
   "version": "3.8.7"
  },
  "orig_nbformat": 4
 },
 "nbformat": 4,
 "nbformat_minor": 2
}
